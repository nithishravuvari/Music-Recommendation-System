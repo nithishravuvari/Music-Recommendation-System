{
 "cells": [
  {
   "cell_type": "code",
   "execution_count": 1,
   "metadata": {},
<<<<<<< HEAD
   "outputs": [],
   "source": [
    "# ------------------ Import libraries ------------------\n",
    "import pandas as pd\n",
    "import nltk\n",
    "from nltk.stem.porter import PorterStemmer\n",
    "from sentence_transformers import SentenceTransformer\n",
    "from sklearn.metrics.pairwise import cosine_similarity\n",
    "import pickle\n",
    "import numpy as np\n",
    "from textblob import TextBlob"
=======
   "outputs": [
    {
     "name": "stderr",
     "output_type": "stream",
     "text": [
      "c:\\Users\\nitis\\anaconda3\\lib\\site-packages\\pandas\\core\\computation\\expressions.py:21: UserWarning: Pandas requires version '2.8.0' or newer of 'numexpr' (version '2.7.3' currently installed).\n",
      "  from pandas.core.computation.check import NUMEXPR_INSTALLED\n",
      "c:\\Users\\nitis\\anaconda3\\lib\\site-packages\\pandas\\core\\arrays\\masked.py:62: UserWarning: Pandas requires version '1.3.4' or newer of 'bottleneck' (version '1.3.2' currently installed).\n",
      "  from pandas.core import (\n"
     ]
    }
   ],
   "source": [
    "import pandas as pd"
>>>>>>> 082d73c6c28e3a59ae59ce6a632a216ddd6d1a14
   ]
  },
  {
   "cell_type": "code",
   "execution_count": 2,
   "metadata": {},
   "outputs": [],
   "source": [
<<<<<<< HEAD
    "# Load dataset\n",
    "df = pd.read_csv(\"spotify_millsongdata.csv\")\n",
    "df = df.sample(5000).drop('link', axis=1).reset_index(drop=True)"
=======
    "df = pd.read_csv(\"spotify_millsongdata.csv\")"
   ]
  },
  {
   "cell_type": "code",
   "execution_count": 3,
   "metadata": {},
   "outputs": [
    {
     "data": {
      "text/html": [
       "<div>\n",
       "<style scoped>\n",
       "    .dataframe tbody tr th:only-of-type {\n",
       "        vertical-align: middle;\n",
       "    }\n",
       "\n",
       "    .dataframe tbody tr th {\n",
       "        vertical-align: top;\n",
       "    }\n",
       "\n",
       "    .dataframe thead th {\n",
       "        text-align: right;\n",
       "    }\n",
       "</style>\n",
       "<table border=\"1\" class=\"dataframe\">\n",
       "  <thead>\n",
       "    <tr style=\"text-align: right;\">\n",
       "      <th></th>\n",
       "      <th>artist</th>\n",
       "      <th>song</th>\n",
       "      <th>link</th>\n",
       "      <th>text</th>\n",
       "    </tr>\n",
       "  </thead>\n",
       "  <tbody>\n",
       "    <tr>\n",
       "      <th>0</th>\n",
       "      <td>ABBA</td>\n",
       "      <td>Ahe's My Kind Of Girl</td>\n",
       "      <td>/a/abba/ahes+my+kind+of+girl_20598417.html</td>\n",
       "      <td>Look at her face, it's a wonderful face  \\r\\nA...</td>\n",
       "    </tr>\n",
       "    <tr>\n",
       "      <th>1</th>\n",
       "      <td>ABBA</td>\n",
       "      <td>Andante, Andante</td>\n",
       "      <td>/a/abba/andante+andante_20002708.html</td>\n",
       "      <td>Take it easy with me, please  \\r\\nTouch me gen...</td>\n",
       "    </tr>\n",
       "    <tr>\n",
       "      <th>2</th>\n",
       "      <td>ABBA</td>\n",
       "      <td>As Good As New</td>\n",
       "      <td>/a/abba/as+good+as+new_20003033.html</td>\n",
       "      <td>I'll never know why I had to go  \\r\\nWhy I had...</td>\n",
       "    </tr>\n",
       "    <tr>\n",
       "      <th>3</th>\n",
       "      <td>ABBA</td>\n",
       "      <td>Bang</td>\n",
       "      <td>/a/abba/bang_20598415.html</td>\n",
       "      <td>Making somebody happy is a question of give an...</td>\n",
       "    </tr>\n",
       "    <tr>\n",
       "      <th>4</th>\n",
       "      <td>ABBA</td>\n",
       "      <td>Bang-A-Boomerang</td>\n",
       "      <td>/a/abba/bang+a+boomerang_20002668.html</td>\n",
       "      <td>Making somebody happy is a question of give an...</td>\n",
       "    </tr>\n",
       "  </tbody>\n",
       "</table>\n",
       "</div>"
      ],
      "text/plain": [
       "  artist                   song                                        link  \\\n",
       "0   ABBA  Ahe's My Kind Of Girl  /a/abba/ahes+my+kind+of+girl_20598417.html   \n",
       "1   ABBA       Andante, Andante       /a/abba/andante+andante_20002708.html   \n",
       "2   ABBA         As Good As New        /a/abba/as+good+as+new_20003033.html   \n",
       "3   ABBA                   Bang                  /a/abba/bang_20598415.html   \n",
       "4   ABBA       Bang-A-Boomerang      /a/abba/bang+a+boomerang_20002668.html   \n",
       "\n",
       "                                                text  \n",
       "0  Look at her face, it's a wonderful face  \\r\\nA...  \n",
       "1  Take it easy with me, please  \\r\\nTouch me gen...  \n",
       "2  I'll never know why I had to go  \\r\\nWhy I had...  \n",
       "3  Making somebody happy is a question of give an...  \n",
       "4  Making somebody happy is a question of give an...  "
      ]
     },
     "execution_count": 3,
     "metadata": {},
     "output_type": "execute_result"
    }
   ],
   "source": [
    "df.head(5)"
   ]
  },
  {
   "cell_type": "code",
   "execution_count": 4,
   "metadata": {},
   "outputs": [
    {
     "data": {
      "text/html": [
       "<div>\n",
       "<style scoped>\n",
       "    .dataframe tbody tr th:only-of-type {\n",
       "        vertical-align: middle;\n",
       "    }\n",
       "\n",
       "    .dataframe tbody tr th {\n",
       "        vertical-align: top;\n",
       "    }\n",
       "\n",
       "    .dataframe thead th {\n",
       "        text-align: right;\n",
       "    }\n",
       "</style>\n",
       "<table border=\"1\" class=\"dataframe\">\n",
       "  <thead>\n",
       "    <tr style=\"text-align: right;\">\n",
       "      <th></th>\n",
       "      <th>artist</th>\n",
       "      <th>song</th>\n",
       "      <th>link</th>\n",
       "      <th>text</th>\n",
       "    </tr>\n",
       "  </thead>\n",
       "  <tbody>\n",
       "    <tr>\n",
       "      <th>57643</th>\n",
       "      <td>Ziggy Marley</td>\n",
       "      <td>G7</td>\n",
       "      <td>/z/ziggy+marley/g7_20531173.html</td>\n",
       "      <td>Seven richest countries in the world  \\r\\nThem...</td>\n",
       "    </tr>\n",
       "    <tr>\n",
       "      <th>57644</th>\n",
       "      <td>Ziggy Marley</td>\n",
       "      <td>Generation</td>\n",
       "      <td>/z/ziggy+marley/generation_20531171.html</td>\n",
       "      <td>Many generation have passed away  \\r\\nFighting...</td>\n",
       "    </tr>\n",
       "    <tr>\n",
       "      <th>57645</th>\n",
       "      <td>Ziggy Marley</td>\n",
       "      <td>Good Old Days</td>\n",
       "      <td>/z/ziggy+marley/good+old+days_10198588.html</td>\n",
       "      <td>Irie days come on play  \\r\\nLet the angels fly...</td>\n",
       "    </tr>\n",
       "    <tr>\n",
       "      <th>57646</th>\n",
       "      <td>Ziggy Marley</td>\n",
       "      <td>Hand To Mouth</td>\n",
       "      <td>/z/ziggy+marley/hand+to+mouth_20531167.html</td>\n",
       "      <td>Power to the workers  \\r\\nMore power  \\r\\nPowe...</td>\n",
       "    </tr>\n",
       "    <tr>\n",
       "      <th>57647</th>\n",
       "      <td>Zwan</td>\n",
       "      <td>Come With Me</td>\n",
       "      <td>/z/zwan/come+with+me_20148981.html</td>\n",
       "      <td>all you need  \\r\\nis something i'll believe  \\...</td>\n",
       "    </tr>\n",
       "    <tr>\n",
       "      <th>57648</th>\n",
       "      <td>Zwan</td>\n",
       "      <td>Desire</td>\n",
       "      <td>/z/zwan/desire_20148986.html</td>\n",
       "      <td>northern star  \\r\\nam i frightened  \\r\\nwhere ...</td>\n",
       "    </tr>\n",
       "    <tr>\n",
       "      <th>57649</th>\n",
       "      <td>Zwan</td>\n",
       "      <td>Heartsong</td>\n",
       "      <td>/z/zwan/heartsong_20148991.html</td>\n",
       "      <td>come in  \\r\\nmake yourself at home  \\r\\ni'm a ...</td>\n",
       "    </tr>\n",
       "  </tbody>\n",
       "</table>\n",
       "</div>"
      ],
      "text/plain": [
       "             artist           song  \\\n",
       "57643  Ziggy Marley             G7   \n",
       "57644  Ziggy Marley     Generation   \n",
       "57645  Ziggy Marley  Good Old Days   \n",
       "57646  Ziggy Marley  Hand To Mouth   \n",
       "57647          Zwan   Come With Me   \n",
       "57648          Zwan         Desire   \n",
       "57649          Zwan      Heartsong   \n",
       "\n",
       "                                              link  \\\n",
       "57643             /z/ziggy+marley/g7_20531173.html   \n",
       "57644     /z/ziggy+marley/generation_20531171.html   \n",
       "57645  /z/ziggy+marley/good+old+days_10198588.html   \n",
       "57646  /z/ziggy+marley/hand+to+mouth_20531167.html   \n",
       "57647           /z/zwan/come+with+me_20148981.html   \n",
       "57648                 /z/zwan/desire_20148986.html   \n",
       "57649              /z/zwan/heartsong_20148991.html   \n",
       "\n",
       "                                                    text  \n",
       "57643  Seven richest countries in the world  \\r\\nThem...  \n",
       "57644  Many generation have passed away  \\r\\nFighting...  \n",
       "57645  Irie days come on play  \\r\\nLet the angels fly...  \n",
       "57646  Power to the workers  \\r\\nMore power  \\r\\nPowe...  \n",
       "57647  all you need  \\r\\nis something i'll believe  \\...  \n",
       "57648  northern star  \\r\\nam i frightened  \\r\\nwhere ...  \n",
       "57649  come in  \\r\\nmake yourself at home  \\r\\ni'm a ...  "
      ]
     },
     "execution_count": 4,
     "metadata": {},
     "output_type": "execute_result"
    }
   ],
   "source": [
    "df.tail(7)"
>>>>>>> 082d73c6c28e3a59ae59ce6a632a216ddd6d1a14
   ]
  },
  {
   "cell_type": "code",
   "execution_count": 5,
   "metadata": {},
   "outputs": [
    {
<<<<<<< HEAD
     "name": "stderr",
     "output_type": "stream",
     "text": [
      "[nltk_data] Downloading package punkt to\n",
      "[nltk_data]     C:\\Users\\nitis\\AppData\\Roaming\\nltk_data...\n",
      "[nltk_data]   Package punkt is already up-to-date!\n",
      "[nltk_data] Downloading package punkt_tab to\n",
      "[nltk_data]     C:\\Users\\nitis\\AppData\\Roaming\\nltk_data...\n",
      "[nltk_data]   Unzipping tokenizers\\punkt_tab.zip.\n"
     ]
    },
    {
     "data": {
      "text/plain": [
       "True"
=======
     "data": {
      "text/plain": [
       "(57650, 4)"
>>>>>>> 082d73c6c28e3a59ae59ce6a632a216ddd6d1a14
      ]
     },
     "execution_count": 5,
     "metadata": {},
     "output_type": "execute_result"
    }
   ],
   "source": [
<<<<<<< HEAD
    "import nltk\n",
    "\n",
    "nltk.download('punkt')\n",
    "nltk.download('punkt_tab')  # <-- NEW in NLTK >= 3.9"
=======
    "df.shape"
   ]
  },
  {
   "cell_type": "code",
   "execution_count": 6,
   "metadata": {},
   "outputs": [
    {
     "data": {
      "text/plain": [
       "artist    0\n",
       "song      0\n",
       "link      0\n",
       "text      0\n",
       "dtype: int64"
      ]
     },
     "execution_count": 6,
     "metadata": {},
     "output_type": "execute_result"
    }
   ],
   "source": [
    "df.isnull().sum()"
>>>>>>> 082d73c6c28e3a59ae59ce6a632a216ddd6d1a14
   ]
  },
  {
   "cell_type": "code",
   "execution_count": 7,
   "metadata": {},
<<<<<<< HEAD
   "outputs": [
    {
     "name": "stdout",
     "output_type": "stream",
     "text": [
      "['This', 'is', 'a', 'test', 'sentence', '.']\n"
     ]
    }
   ],
   "source": [
    "import nltk\n",
    "from nltk.tokenize import word_tokenize\n",
    "from nltk.stem.porter import PorterStemmer\n",
    "\n",
    "# Verify tokenizer works\n",
    "sample = \"This is a test sentence.\"\n",
    "tokens = word_tokenize(sample)\n",
    "print(tokens)  # Should print: ['This', 'is', 'a', 'test', 'sentence', '.']\n",
    "\n",
    "# Preprocessing function\n",
    "stemmer = PorterStemmer()\n",
    "def tokenization(txt):\n",
    "    tokens = word_tokenize(txt)\n",
    "    stemming = [stemmer.stem(w) for w in tokens]\n",
    "    return \" \".join(stemming)\n",
    "\n",
    "# Apply to your dataframe\n",
    "df['text'] = df['text'].str.lower().replace(r'^\\w\\s', ' ').replace(r'\\n', ' ', regex=True)\n",
    "df['text'] = df['text'].apply(lambda x: tokenization(x))"
=======
   "outputs": [],
   "source": [
    "df =df.sample(5000).drop('link', axis=1).reset_index(drop=True)"
>>>>>>> 082d73c6c28e3a59ae59ce6a632a216ddd6d1a14
   ]
  },
  {
   "cell_type": "code",
   "execution_count": 8,
   "metadata": {},
   "outputs": [
    {
     "data": {
<<<<<<< HEAD
      "application/vnd.jupyter.widget-view+json": {
       "model_id": "b6ae873a284f49b2b12ebfe80c97e79f",
       "version_major": 2,
       "version_minor": 0
      },
      "text/plain": [
       "modules.json:   0%|          | 0.00/349 [00:00<?, ?B/s]"
      ]
     },
     "metadata": {},
     "output_type": "display_data"
    },
    {
     "name": "stderr",
     "output_type": "stream",
     "text": [
      "c:\\music_recommendation_system\\envi_music\\Lib\\site-packages\\huggingface_hub\\file_download.py:143: UserWarning: `huggingface_hub` cache-system uses symlinks by default to efficiently store duplicated files but your machine does not support them in C:\\Users\\nitis\\.cache\\huggingface\\hub\\models--sentence-transformers--all-MiniLM-L6-v2. Caching files will still work but in a degraded version that might require more space on your disk. This warning can be disabled by setting the `HF_HUB_DISABLE_SYMLINKS_WARNING` environment variable. For more details, see https://huggingface.co/docs/huggingface_hub/how-to-cache#limitations.\n",
      "To support symlinks on Windows, you either need to activate Developer Mode or to run Python as an administrator. In order to activate developer mode, see this article: https://docs.microsoft.com/en-us/windows/apps/get-started/enable-your-device-for-development\n",
      "  warnings.warn(message)\n"
     ]
    },
    {
     "data": {
      "application/vnd.jupyter.widget-view+json": {
       "model_id": "aaefca53ab224e1e8cf5a2d872ed2597",
       "version_major": 2,
       "version_minor": 0
      },
      "text/plain": [
       "config_sentence_transformers.json:   0%|          | 0.00/116 [00:00<?, ?B/s]"
      ]
     },
     "metadata": {},
     "output_type": "display_data"
    },
    {
     "data": {
      "application/vnd.jupyter.widget-view+json": {
       "model_id": "881064185fd144d4a37287d62d8d7f78",
       "version_major": 2,
       "version_minor": 0
      },
      "text/plain": [
       "README.md: 0.00B [00:00, ?B/s]"
      ]
     },
     "metadata": {},
     "output_type": "display_data"
    },
    {
     "data": {
      "application/vnd.jupyter.widget-view+json": {
       "model_id": "b0a7ace7c4c54430a6a570d9a5d21317",
       "version_major": 2,
       "version_minor": 0
      },
      "text/plain": [
       "sentence_bert_config.json:   0%|          | 0.00/53.0 [00:00<?, ?B/s]"
      ]
     },
     "metadata": {},
     "output_type": "display_data"
    },
    {
     "data": {
      "application/vnd.jupyter.widget-view+json": {
       "model_id": "d79b3faaeb9c4056b0ec20fa9dc4238f",
       "version_major": 2,
       "version_minor": 0
      },
      "text/plain": [
       "config.json:   0%|          | 0.00/612 [00:00<?, ?B/s]"
      ]
     },
     "metadata": {},
     "output_type": "display_data"
    },
    {
     "name": "stderr",
     "output_type": "stream",
     "text": [
      "Xet Storage is enabled for this repo, but the 'hf_xet' package is not installed. Falling back to regular HTTP download. For better performance, install the package with: `pip install huggingface_hub[hf_xet]` or `pip install hf_xet`\n"
     ]
    },
    {
     "data": {
      "application/vnd.jupyter.widget-view+json": {
       "model_id": "665b4ab217004aea8845aa31dd536d55",
       "version_major": 2,
       "version_minor": 0
      },
      "text/plain": [
       "model.safetensors:   0%|          | 0.00/90.9M [00:00<?, ?B/s]"
      ]
     },
     "metadata": {},
     "output_type": "display_data"
    },
    {
     "data": {
      "application/vnd.jupyter.widget-view+json": {
       "model_id": "a885310c9e2c439181ea478a3c33a469",
       "version_major": 2,
       "version_minor": 0
      },
      "text/plain": [
       "tokenizer_config.json:   0%|          | 0.00/350 [00:00<?, ?B/s]"
      ]
     },
     "metadata": {},
     "output_type": "display_data"
    },
    {
     "data": {
      "application/vnd.jupyter.widget-view+json": {
       "model_id": "5eb1f7c67f694b03a11985254f49eb12",
       "version_major": 2,
       "version_minor": 0
      },
      "text/plain": [
       "vocab.txt: 0.00B [00:00, ?B/s]"
      ]
     },
     "metadata": {},
     "output_type": "display_data"
    },
    {
     "data": {
      "application/vnd.jupyter.widget-view+json": {
       "model_id": "ce80e4f644614d0b9392545c5a5b3548",
       "version_major": 2,
       "version_minor": 0
      },
      "text/plain": [
       "tokenizer.json: 0.00B [00:00, ?B/s]"
      ]
     },
     "metadata": {},
     "output_type": "display_data"
    },
    {
     "data": {
      "application/vnd.jupyter.widget-view+json": {
       "model_id": "6d41050aaa21493d907c5bae04dd2e6b",
       "version_major": 2,
       "version_minor": 0
      },
      "text/plain": [
       "special_tokens_map.json:   0%|          | 0.00/112 [00:00<?, ?B/s]"
      ]
     },
     "metadata": {},
     "output_type": "display_data"
    },
    {
     "data": {
      "application/vnd.jupyter.widget-view+json": {
       "model_id": "d3e26ee8d074412281c645d6582161fc",
       "version_major": 2,
       "version_minor": 0
      },
      "text/plain": [
       "config.json:   0%|          | 0.00/190 [00:00<?, ?B/s]"
      ]
     },
     "metadata": {},
     "output_type": "display_data"
    }
   ],
   "source": [
    "# ------------------ Generate Lyrics Embeddings ------------------\n",
    "model = SentenceTransformer('all-MiniLM-L6-v2')\n",
    "lyrics_embeddings = model.encode(df['text'].tolist(), convert_to_numpy=True)"
=======
      "text/html": [
       "<div>\n",
       "<style scoped>\n",
       "    .dataframe tbody tr th:only-of-type {\n",
       "        vertical-align: middle;\n",
       "    }\n",
       "\n",
       "    .dataframe tbody tr th {\n",
       "        vertical-align: top;\n",
       "    }\n",
       "\n",
       "    .dataframe thead th {\n",
       "        text-align: right;\n",
       "    }\n",
       "</style>\n",
       "<table border=\"1\" class=\"dataframe\">\n",
       "  <thead>\n",
       "    <tr style=\"text-align: right;\">\n",
       "      <th></th>\n",
       "      <th>artist</th>\n",
       "      <th>song</th>\n",
       "      <th>text</th>\n",
       "    </tr>\n",
       "  </thead>\n",
       "  <tbody>\n",
       "    <tr>\n",
       "      <th>0</th>\n",
       "      <td>Ray Boltz</td>\n",
       "      <td>Break The Yoke</td>\n",
       "      <td>Standing up on the outside,  \\r\\nFalling down ...</td>\n",
       "    </tr>\n",
       "    <tr>\n",
       "      <th>1</th>\n",
       "      <td>Taylor Swift</td>\n",
       "      <td>Umbrella</td>\n",
       "      <td>You had my heart, we'll never be worlds apart ...</td>\n",
       "    </tr>\n",
       "    <tr>\n",
       "      <th>2</th>\n",
       "      <td>Young Jeezy</td>\n",
       "      <td>Nothing</td>\n",
       "      <td>[Chorus]  \\r\\nMan them young niggas killing bo...</td>\n",
       "    </tr>\n",
       "    <tr>\n",
       "      <th>3</th>\n",
       "      <td>Yoko Ono</td>\n",
       "      <td>Angry Young Woman</td>\n",
       "      <td>Angry young woman on sunrise strip,  \\r\\nWalki...</td>\n",
       "    </tr>\n",
       "    <tr>\n",
       "      <th>4</th>\n",
       "      <td>Deep Purple</td>\n",
       "      <td>Chasing Shadows</td>\n",
       "      <td>Chasing shadows, over my walls  \\r\\nwith mysel...</td>\n",
       "    </tr>\n",
       "    <tr>\n",
       "      <th>5</th>\n",
       "      <td>Neil Diamond</td>\n",
       "      <td>Blue Destiny (Version Two)</td>\n",
       "      <td>Once you were mine  \\r\\nAnd you wanted the who...</td>\n",
       "    </tr>\n",
       "    <tr>\n",
       "      <th>6</th>\n",
       "      <td>Lloyd Cole</td>\n",
       "      <td>Perfect Skin</td>\n",
       "      <td>I choose my friends only far too well  \\r\\nI'm...</td>\n",
       "    </tr>\n",
       "    <tr>\n",
       "      <th>7</th>\n",
       "      <td>Counting Crows</td>\n",
       "      <td>4 White Stallions</td>\n",
       "      <td>She had four white stallions coming up around ...</td>\n",
       "    </tr>\n",
       "    <tr>\n",
       "      <th>8</th>\n",
       "      <td>Cliff Richard</td>\n",
       "      <td>It's Alright Now</td>\n",
       "      <td>People came from miles around  \\r\\nTo pay resp...</td>\n",
       "    </tr>\n",
       "    <tr>\n",
       "      <th>9</th>\n",
       "      <td>Gordon Lightfoot</td>\n",
       "      <td>Apology</td>\n",
       "      <td>I remember everything  \\r\\nI've learned about ...</td>\n",
       "    </tr>\n",
       "  </tbody>\n",
       "</table>\n",
       "</div>"
      ],
      "text/plain": [
       "             artist                        song  \\\n",
       "0         Ray Boltz              Break The Yoke   \n",
       "1      Taylor Swift                    Umbrella   \n",
       "2       Young Jeezy                     Nothing   \n",
       "3          Yoko Ono           Angry Young Woman   \n",
       "4       Deep Purple             Chasing Shadows   \n",
       "5      Neil Diamond  Blue Destiny (Version Two)   \n",
       "6        Lloyd Cole                Perfect Skin   \n",
       "7    Counting Crows           4 White Stallions   \n",
       "8     Cliff Richard            It's Alright Now   \n",
       "9  Gordon Lightfoot                     Apology   \n",
       "\n",
       "                                                text  \n",
       "0  Standing up on the outside,  \\r\\nFalling down ...  \n",
       "1  You had my heart, we'll never be worlds apart ...  \n",
       "2  [Chorus]  \\r\\nMan them young niggas killing bo...  \n",
       "3  Angry young woman on sunrise strip,  \\r\\nWalki...  \n",
       "4  Chasing shadows, over my walls  \\r\\nwith mysel...  \n",
       "5  Once you were mine  \\r\\nAnd you wanted the who...  \n",
       "6  I choose my friends only far too well  \\r\\nI'm...  \n",
       "7  She had four white stallions coming up around ...  \n",
       "8  People came from miles around  \\r\\nTo pay resp...  \n",
       "9  I remember everything  \\r\\nI've learned about ...  "
      ]
     },
     "execution_count": 8,
     "metadata": {},
     "output_type": "execute_result"
    }
   ],
   "source": [
    "df.head(10)"
>>>>>>> 082d73c6c28e3a59ae59ce6a632a216ddd6d1a14
   ]
  },
  {
   "cell_type": "code",
   "execution_count": 9,
   "metadata": {},
<<<<<<< HEAD
   "outputs": [],
   "source": [
    "# ------------------ Precompute Context Columns ------------------\n",
    "\n",
    "# ---- Mood Detection ----\n",
    "def detect_mood(text):\n",
    "    text = text.lower()\n",
    "    blob = TextBlob(text)\n",
    "    polarity = blob.sentiment.polarity\n",
    "    # Energetic keywords\n",
    "    energetic_keywords = [\"dance\", \"move\", \"jump\", \"run\", \"energy\", \"party\"]\n",
    "    if any(word in text for word in energetic_keywords):\n",
    "        return \"Energetic\"\n",
    "    elif polarity > 0.3:\n",
    "        return \"Happy\"\n",
    "    elif polarity < -0.2:\n",
    "        return \"Sad\"\n",
    "    else:\n",
    "        return \"Chill\"\n",
    "\n",
    "df['mood'] = df['text'].apply(detect_mood)"
=======
   "outputs": [
    {
     "data": {
      "text/plain": [
       "\"Standing up on the outside,  \\r\\nFalling down within,  \\r\\nLooking righteous as a pharisee,  \\r\\nFilled with guilt and sin,  \\r\\nTrying to walk with Jesus  \\r\\nThe strait and narrow road,  \\r\\nHolding on to this world,  \\r\\nI just could not let go,  \\r\\nThat's such a heavy road.  \\r\\nChorus  \\r\\nCome and break the yoke Lord,  \\r\\nCome and set this child free,  \\r\\nCome tear down the walls of pride  \\r\\nAnd all I hide beneath,  \\r\\nFreedom always came to those  \\r\\nWho receive the words you spoke,  \\r\\nI receive your word, break the yoke,  \\r\\nI receive your word, break the yoke.  \\r\\nPraying with my brother  \\r\\nIs such a precious time,  \\r\\nWhen I confessed my weaknesses  \\r\\nHe joined his hands with mine,  \\r\\nI know something happened  \\r\\nWhen he prayed with me,  \\r\\nThe weight of sin fell off,  \\r\\nJesus set me free.  \\r\\nCome and break the yoke Lord,  \\r\\nCome and set your children free,  \\r\\nCome tear down the walls of pride  \\r\\nAnd false humility,  \\r\\nThe nail scars in your hands and feet  \\r\\nProve your love for us is not a joke,  \\r\\nDo what you must, break the yoke,  \\r\\nDo what you must, break the yoke.  \\r\\nNow I'm back on my feet again,  \\r\\nA new life's begun,  \\r\\nEvery day I'm walking with Jesus,  \\r\\nBut you know there are days we even run,  \\r\\nSet free to serve and worship Him,  \\r\\nAll the chains He broke,  \\r\\nI'll praise His name forever,  \\r\\nHe broke the yoke,  \\r\\nI'll praise your name Lord,  \\r\\nYou broke the yoke, you broke the yoke.  \\r\\n  \\r\\nBehold  \\r\\nBehold the cross that Jesus bore,  \\r\\nBehold the crown of thorns that he wore,  \\r\\nBehold the price that Jesus paid,  \\r\\nThe glorious sacrifice that he made.  \\r\\nChorus  \\r\\nBehold, oh behold, Jesus Christ the Lord,  \\r\\nBehold, He is the one that we adore.  \\r\\nBehold the tomb where Jesus lay,  \\r\\nBehold the stone, it's been rolled away,  \\r\\nBehold His resurrection power,  \\r\\nHe lives again, He lives this hour.  \\r\\nChorus  \\r\\nBehold the world in slumber lies,  \\r\\nAnd then thunder fills the skies,  \\r\\nAn angel shouts, a trumpet sounds,  \\r\\nThe saints of God are glory bound.  \\r\\nChorus  \\r\\nAnd we adore you Lord,  \\r\\nAnd we adore your name,  \\r\\nAnd we lift up our hearts in praise,  \\r\\nRepeat\\r\\n\\r\\n\""
      ]
     },
     "execution_count": 9,
     "metadata": {},
     "output_type": "execute_result"
    }
   ],
   "source": [
    "df['text'][0]"
>>>>>>> 082d73c6c28e3a59ae59ce6a632a216ddd6d1a14
   ]
  },
  {
   "cell_type": "code",
   "execution_count": 10,
   "metadata": {},
<<<<<<< HEAD
   "outputs": [],
   "source": [
    "# ---- Activity Detection ----\n",
    "def detect_activity(text):\n",
    "    text = text.lower()\n",
    "    if any(w in text for w in [\"dance\", \"move\", \"run\", \"jump\", \"energy\"]):\n",
    "        return \"Workout\"\n",
    "    if any(w in text for w in [\"study\", \"calm\", \"focus\", \"read\", \"think\"]):\n",
    "        return \"Study\"\n",
    "    if any(w in text for w in [\"party\", \"club\", \"celebrate\", \"night\"]):\n",
    "        return \"Party\"\n",
    "    if any(w in text for w in [\"relax\", \"chill\", \"slow\", \"peace\"]):\n",
    "        return \"Relax\"\n",
    "    return \"Any\"\n",
    "\n",
    "df['activity'] = df['text'].apply(detect_activity)"
=======
   "outputs": [
    {
     "data": {
      "text/plain": [
       "(5000, 3)"
      ]
     },
     "execution_count": 10,
     "metadata": {},
     "output_type": "execute_result"
    }
   ],
   "source": [
    "df.shape"
   ]
  },
  {
   "cell_type": "markdown",
   "metadata": {},
   "source": [
    "Text Processing and Text Cleaning"
>>>>>>> 082d73c6c28e3a59ae59ce6a632a216ddd6d1a14
   ]
  },
  {
   "cell_type": "code",
   "execution_count": 11,
   "metadata": {},
   "outputs": [],
   "source": [
<<<<<<< HEAD
    "# ---- Genre Detection ----\n",
    "def detect_genre(text):\n",
    "    text = text.lower()\n",
    "    genres = [\"pop\", \"rock\", \"hip-hop\", \"jazz\", \"classical\", \"electronic\", \"country\"]\n",
    "    for g in genres:\n",
    "        if g in text:\n",
    "            return g.capitalize()\n",
    "    return \"Any\"\n",
    "\n",
    "df['genre'] = df['text'].apply(detect_genre)"
=======
    "df['text'] = df['text'].str.lower().replace(r'^\\w\\s', ' ').replace(r'\\n', ' ', regex = True)"
>>>>>>> 082d73c6c28e3a59ae59ce6a632a216ddd6d1a14
   ]
  },
  {
   "cell_type": "code",
   "execution_count": 12,
   "metadata": {},
<<<<<<< HEAD
   "outputs": [],
   "source": [
    "# ------------------ Build Similarity Matrix ------------------\n",
    "similarity_matrix = cosine_similarity(lyrics_embeddings)"
=======
   "outputs": [
    {
     "name": "stderr",
     "output_type": "stream",
     "text": [
      "C:\\Users\\nitis\\AppData\\Roaming\\Python\\Python39\\site-packages\\scipy\\__init__.py:146: UserWarning: A NumPy version >=1.16.5 and <1.23.0 is required for this version of SciPy (detected version 1.25.2\n",
      "  warnings.warn(f\"A NumPy version >={np_minversion} and <{np_maxversion}\"\n"
     ]
    }
   ],
   "source": [
    "import nltk\n",
    "from nltk.stem.porter import PorterStemmer\n",
    "stemmer = PorterStemmer()\n",
    "\n",
    "def tokenization(txt):\n",
    "    tokens = nltk.word_tokenize(txt)\n",
    "    stemming = [stemmer.stem(w) for w in tokens]\n",
    "    return \" \".join(stemming)"
>>>>>>> 082d73c6c28e3a59ae59ce6a632a216ddd6d1a14
   ]
  },
  {
   "cell_type": "code",
   "execution_count": 13,
   "metadata": {},
   "outputs": [],
   "source": [
<<<<<<< HEAD
    "# ------------------ Recommendation Function ------------------\n",
    "def recommend_with_context(input_song, df, similarity_matrix, top_n=5, mood=\"Any\", activity=\"Any\", genre=\"Any\"):\n",
    "    try:\n",
    "        idx = df[df['song'] == input_song].index[0]\n",
    "    except IndexError:\n",
    "        print(f\"Song '{input_song}' not found in the dataset.\")\n",
    "        return []\n",
    "\n",
    "    sim_scores = similarity_matrix[idx]\n",
    "    top_indices = np.argsort(sim_scores)[::-1][1:50]  # top 50 candidates\n",
    "\n",
    "    recommendations = []\n",
    "    for i in top_indices:\n",
    "        song_name = df.iloc[i].song\n",
    "\n",
    "        # Use precomputed columns\n",
    "        if mood != \"Any\" and df.iloc[i]['mood'] != mood:\n",
    "            continue\n",
    "        if activity != \"Any\" and df.iloc[i]['activity'] != activity:\n",
    "            continue\n",
    "        if genre != \"Any\" and df.iloc[i]['genre'] != genre:\n",
    "            continue\n",
    "\n",
    "        recommendations.append(song_name)\n",
    "        if len(recommendations) == top_n:\n",
    "            break\n",
    "\n",
    "    # Fallback if not enough matches\n",
    "    if len(recommendations) < top_n:\n",
    "        for i in top_indices:\n",
    "            song_name = df.iloc[i].song\n",
    "            if song_name not in recommendations:\n",
    "                recommendations.append(song_name)\n",
    "            if len(recommendations) == top_n:\n",
    "                break\n",
    "\n",
    "    return recommendations"
=======
    "df['text'] = df['text'].apply(lambda x: tokenization(x))"
   ]
  },
  {
   "cell_type": "code",
   "execution_count": 14,
   "metadata": {},
   "outputs": [],
   "source": [
    "from sklearn.feature_extraction.text import TfidfVectorizer\n",
    "from sklearn.metrics.pairwise import cosine_similarity"
>>>>>>> 082d73c6c28e3a59ae59ce6a632a216ddd6d1a14
   ]
  },
  {
   "cell_type": "code",
   "execution_count": 15,
   "metadata": {},
<<<<<<< HEAD
   "outputs": [
    {
     "name": "stdout",
     "output_type": "stream",
     "text": [
      "Recommendations for 'Hey Jude':\n",
      "['Another Nail In My Heart', 'You Got It', 'Honey', 'Four Letter Word', 'Hurts So Good']\n"
     ]
    }
   ],
   "source": [
    "# ------------------ Test the Recommendation ------------------\n",
    "selected_song = 'Hey Jude'\n",
    "recommended_songs = recommend_with_context(\n",
    "    selected_song, df, similarity_matrix, top_n=5, mood=\"Any\", activity=\"Any\", genre=\"Any\"\n",
    ")\n",
    "\n",
    "print(f\"Recommendations for '{selected_song}':\")\n",
    "print(recommended_songs)"
=======
   "outputs": [],
   "source": [
    "text_data = df['text']"
>>>>>>> 082d73c6c28e3a59ae59ce6a632a216ddd6d1a14
   ]
  },
  {
   "cell_type": "code",
   "execution_count": 16,
   "metadata": {},
<<<<<<< HEAD
=======
   "outputs": [],
   "source": [
    "df['text'] = df['text'].apply(lambda x: ' '.join(x) if isinstance(x, list) else x)"
   ]
  },
  {
   "cell_type": "code",
   "execution_count": 17,
   "metadata": {},
   "outputs": [],
   "source": [
    "from sklearn.feature_extraction.text import TfidfVectorizer\n",
    "\n",
    "tfidfvector = TfidfVectorizer(analyzer='word', stop_words='english')\n",
    "matrix = tfidfvector.fit_transform(df['text'].astype(str))\n",
    "similarity = cosine_similarity(matrix)"
   ]
  },
  {
   "cell_type": "code",
   "execution_count": 19,
   "metadata": {},
   "outputs": [
    {
     "data": {
      "text/plain": [
       "array([1.        , 0.01438715, 0.04066558, ..., 0.03941415, 0.01619914,\n",
       "       0.02997359])"
      ]
     },
     "execution_count": 19,
     "metadata": {},
     "output_type": "execute_result"
    }
   ],
   "source": [
    "similarity[0]"
   ]
  },
  {
   "cell_type": "code",
   "execution_count": 30,
   "metadata": {},
   "outputs": [
    {
     "data": {
      "text/html": [
       "<div>\n",
       "<style scoped>\n",
       "    .dataframe tbody tr th:only-of-type {\n",
       "        vertical-align: middle;\n",
       "    }\n",
       "\n",
       "    .dataframe tbody tr th {\n",
       "        vertical-align: top;\n",
       "    }\n",
       "\n",
       "    .dataframe thead th {\n",
       "        text-align: right;\n",
       "    }\n",
       "</style>\n",
       "<table border=\"1\" class=\"dataframe\">\n",
       "  <thead>\n",
       "    <tr style=\"text-align: right;\">\n",
       "      <th></th>\n",
       "      <th>artist</th>\n",
       "      <th>song</th>\n",
       "      <th>text</th>\n",
       "    </tr>\n",
       "  </thead>\n",
       "  <tbody>\n",
       "    <tr>\n",
       "      <th>9</th>\n",
       "      <td>Gordon Lightfoot</td>\n",
       "      <td>Apology</td>\n",
       "      <td>i rememb everyth i 've learn about surviv i 'v...</td>\n",
       "    </tr>\n",
       "  </tbody>\n",
       "</table>\n",
       "</div>"
      ],
      "text/plain": [
       "             artist     song  \\\n",
       "9  Gordon Lightfoot  Apology   \n",
       "\n",
       "                                                text  \n",
       "9  i rememb everyth i 've learn about surviv i 'v...  "
      ]
     },
     "execution_count": 30,
     "metadata": {},
     "output_type": "execute_result"
    }
   ],
   "source": [
    "df[df['song'] == 'Apology']"
   ]
  },
  {
   "cell_type": "code",
   "execution_count": 31,
   "metadata": {},
   "outputs": [],
   "source": [
    "def recommendation(song_df, df, similarity):\n",
    "    try:\n",
    "        idx = df[df['song'] == song_df].index[0]\n",
    "    except IndexError:\n",
    "        print(f\"Song '{song_df}' not found in the DataFrame.\")\n",
    "        return []\n",
    "\n",
    "    distances = sorted(list(enumerate(similarity[idx])), reverse=True, key=lambda x: x[1])\n",
    "\n",
    "    songs = []\n",
    "    for m_id in distances[1:21]:\n",
    "        songs.append(df.iloc[m_id[0]].song)\n",
    "\n",
    "    return songs"
   ]
  },
  {
   "cell_type": "code",
   "execution_count": 32,
   "metadata": {},
>>>>>>> 082d73c6c28e3a59ae59ce6a632a216ddd6d1a14
   "outputs": [
    {
     "name": "stdout",
     "output_type": "stream",
     "text": [
<<<<<<< HEAD
      "Pickle files saved: df.pkl and similarity.pkl\n"
=======
      "['Down To Earth', 'Fool To Think', 'Green River', 'Vicious', \"Don't Walk Away\", 'Gone Too Long', \"Summer's Almost Gone\", 'Words Of Wisdom', 'Love Is Gone', 'All For Love', \"Don't Walk Away\", \"I've Done At Least One Thing\", 'An Angel Came To Me', 'Holding Everything', 'I Was So Lucky', \"It's Your Song\", 'The Gift', 'God You Never Cried', 'Looking For Love', 'Ravine']\n"
>>>>>>> 082d73c6c28e3a59ae59ce6a632a216ddd6d1a14
     ]
    }
   ],
   "source": [
<<<<<<< HEAD
    "# ------------------ Save Data for app.py ------------------\n",
    "with open(\"df.pkl\", \"wb\") as f:\n",
    "    pickle.dump(df, f)\n",
    "\n",
    "with open(\"similarity.pkl\", \"wb\") as f:\n",
    "    pickle.dump(similarity_matrix, f)\n",
    "\n",
    "print(\"Pickle files saved: df.pkl and similarity.pkl\")"
   ]
  },
  {
   "cell_type": "code",
   "execution_count": null,
   "metadata": {},
   "outputs": [],
   "source": []
=======
    "recommended_songs = recommendation('Apology', df, similarity)\n",
    "print(recommended_songs)"
   ]
>>>>>>> 082d73c6c28e3a59ae59ce6a632a216ddd6d1a14
  }
 ],
 "metadata": {
  "kernelspec": {
<<<<<<< HEAD
   "display_name": "envi_music",
=======
   "display_name": "Python 3",
>>>>>>> 082d73c6c28e3a59ae59ce6a632a216ddd6d1a14
   "language": "python",
   "name": "python3"
  },
  "language_info": {
   "codemirror_mode": {
    "name": "ipython",
    "version": 3
   },
   "file_extension": ".py",
   "mimetype": "text/x-python",
   "name": "python",
   "nbconvert_exporter": "python",
   "pygments_lexer": "ipython3",
<<<<<<< HEAD
   "version": "3.12.1"
=======
   "version": "3.9.7"
>>>>>>> 082d73c6c28e3a59ae59ce6a632a216ddd6d1a14
  }
 },
 "nbformat": 4,
 "nbformat_minor": 2
}
